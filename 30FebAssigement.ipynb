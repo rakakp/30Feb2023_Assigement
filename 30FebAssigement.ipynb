{
 "cells": [
  {
   "cell_type": "code",
   "execution_count": 1,
   "id": "05e6e305-181e-424e-a6df-b3f905d00dd1",
   "metadata": {},
   "outputs": [
    {
     "name": "stdin",
     "output_type": "stream",
     "text": [
      "Enter the percentage  45\n"
     ]
    },
    {
     "name": "stdout",
     "output_type": "stream",
     "text": [
      "Below D\n"
     ]
    }
   ],
   "source": [
    "''' Q1 '''\n",
    "percent = int(input(\"Enter the percentage \"))\n",
    "\n",
    "if percent > 90:\n",
    "    print(\"Grade A\")\n",
    "elif percent > 80 and percent <=90:\n",
    "    print(\"Grade B\")\n",
    "elif percent >=60 and percent <=80:\n",
    "    print(\"Grade C\")\n",
    "else:\n",
    "    print(\"Below D\")"
   ]
  },
  {
   "cell_type": "code",
   "execution_count": 2,
   "id": "596c1240-59eb-4eda-88d6-6ddf2e3e43b8",
   "metadata": {},
   "outputs": [
    {
     "name": "stdin",
     "output_type": "stream",
     "text": [
      "Enter the bike cost  100001\n"
     ]
    },
    {
     "name": "stdout",
     "output_type": "stream",
     "text": [
      "Road Tax is  115001.15\n"
     ]
    }
   ],
   "source": [
    "''' Q2 '''\n",
    "cost_price = int(input(\"Enter the bike cost \"))\n",
    "\n",
    "def calculate_tax(cost_price):\n",
    "    road_tax = 0\n",
    "    if cost_price > 100000:\n",
    "        road_tax = cost_price + (15*cost_price)/100\n",
    "    elif cost_price > 50000 and cost_price <=100000:\n",
    "        road_tax = cost_price + (10*cost_price)/100\n",
    "    else:\n",
    "        road_tax = cost_price + (5*cost_price)/100\n",
    "    return road_tax\n",
    "\n",
    "print(\"Road Tax is \",calculate_tax(cost_price))\n"
   ]
  },
  {
   "cell_type": "code",
   "execution_count": 3,
   "id": "7af4e4a7-1af8-4eef-85b4-a55c3ea6f31b",
   "metadata": {},
   "outputs": [
    {
     "name": "stdin",
     "output_type": "stream",
     "text": [
      "Enter the city  Agra\n"
     ]
    },
    {
     "name": "stdout",
     "output_type": "stream",
     "text": [
      "Taj Mahal\n"
     ]
    }
   ],
   "source": [
    "''' Q3 '''\n",
    "c = { \n",
    "'Delhi':'Red Fort',\n",
    "'Agra':'Taj Mahal',\n",
    "'Jaipur':'Jal Mahal'\n",
    "}\n",
    "\n",
    "def give_momument(city):\n",
    "    for k,v in c.items():\n",
    "        if k == city:\n",
    "            return v\n",
    "\n",
    "city = input(\"Enter the city \")\n",
    "print(give_momument(city))"
   ]
  },
  {
   "cell_type": "code",
   "execution_count": 4,
   "id": "e98381e3-96dc-4a9d-83ce-ad33d50e3ec5",
   "metadata": {},
   "outputs": [
    {
     "name": "stdout",
     "output_type": "stream",
     "text": [
      "10\n",
      "9\n",
      "8\n",
      "7\n",
      "6\n",
      "5\n",
      "4\n",
      "3\n",
      "2\n",
      "1\n"
     ]
    }
   ],
   "source": [
    "''' Q7 '''\n",
    "\n",
    "def reverse_10_to_1():\n",
    "    num = 10\n",
    "    i = 0\n",
    "    while ( i < num):\n",
    "        n = num - i\n",
    "        print(n)\n",
    "        i = i + 1\n",
    "\n",
    "reverse_10_to_1()"
   ]
  },
  {
   "cell_type": "code",
   "execution_count": 5,
   "id": "4147ee13-d22b-40ee-b9b1-bacb47c2884c",
   "metadata": {},
   "outputs": [
    {
     "name": "stdout",
     "output_type": "stream",
     "text": [
      "10\n",
      "9\n",
      "8\n",
      "7\n",
      "6\n",
      "5\n",
      "4\n",
      "3\n",
      "2\n",
      "1\n"
     ]
    }
   ],
   "source": [
    "''' Q8 '''\n",
    "\n",
    "def reverse_10_to_1():\n",
    "    num = 10\n",
    "    i = 0\n",
    "    while ( i < num):\n",
    "        n = num - i\n",
    "        print(n)\n",
    "        i = i + 1\n",
    "\n",
    "reverse_10_to_1()\n"
   ]
  },
  {
   "cell_type": "code",
   "execution_count": 6,
   "id": "7c5798c0-9204-4603-97af-f01f2ac49514",
   "metadata": {},
   "outputs": [
    {
     "name": "stdout",
     "output_type": "stream",
     "text": [
      "\n",
      "\n",
      "*\n",
      "\n",
      "**\n",
      "\n",
      "***\n",
      "\n",
      "****\n",
      "\n",
      "\n",
      "================================\n",
      "\n",
      "*****\n",
      "\n",
      "****\n",
      "\n",
      "***\n",
      "\n",
      "**\n",
      "\n",
      "*\n",
      "\n",
      "5 4 3 2 1 \n",
      "4 3 2 1 \n",
      "3 2 1 \n",
      "2 1 \n",
      "1 \n",
      "\n"
     ]
    }
   ],
   "source": [
    "def pattern1_print():\n",
    "    for i in range(5):\n",
    "        for j in range(i):\n",
    "            #print(\"*\")\n",
    "            print(\"*\",end='')\n",
    "        print(\"\\n\")\n",
    "\n",
    "def pattern2_print():\n",
    "    for i in range(5):\n",
    "        for j in range(5-i):\n",
    "            #print(\"*\")\n",
    "            print(\"*\",end='')\n",
    "        print(\"\\n\")\n",
    "        \n",
    "pattern1_print()\n",
    "print(\"\\n================================\\n\")\n",
    "pattern2_print()\n",
    "\n",
    "rows = 5\n",
    "for i in range(0, rows + 1):\n",
    "    for j in range(rows - i, 0, -1):\n",
    "        print(j, end=' ')\n",
    "    print()"
   ]
  },
  {
   "cell_type": "code",
   "execution_count": 7,
   "id": "bf137b4d-406a-410d-bce1-1cc55f65e85f",
   "metadata": {},
   "outputs": [
    {
     "name": "stdout",
     "output_type": "stream",
     "text": [
      "[0, 1, 1, 2, 3, 5, 8]\n"
     ]
    }
   ],
   "source": [
    "''' Q5 '''\n",
    "''' Python while loop is used to run a block code until a certain condition is met. Here, A while loop evaluates the condition. If the condition evaluates to True , the code inside the while loop is executed. '''\n",
    "def fabonaci(num):\n",
    "    a,b = 0,1\n",
    "    ab = []\n",
    "    ab.append(0)\n",
    "    ab.append(1)\n",
    "    \n",
    "    while num > 0:\n",
    "        fab = a + b\n",
    "        ab.append(fab)\n",
    "        a,b = b,fab\n",
    "        num = num - 1\n",
    "    return ab\n",
    "\n",
    "print(fabonaci(5))"
   ]
  },
  {
   "cell_type": "code",
   "execution_count": null,
   "id": "30a9fa59-673f-4432-9e9e-fa19c0d7e8e6",
   "metadata": {},
   "outputs": [],
   "source": []
  }
 ],
 "metadata": {
  "kernelspec": {
   "display_name": "Python 3 (ipykernel)",
   "language": "python",
   "name": "python3"
  },
  "language_info": {
   "codemirror_mode": {
    "name": "ipython",
    "version": 3
   },
   "file_extension": ".py",
   "mimetype": "text/x-python",
   "name": "python",
   "nbconvert_exporter": "python",
   "pygments_lexer": "ipython3",
   "version": "3.10.8"
  }
 },
 "nbformat": 4,
 "nbformat_minor": 5
}
